{
 "cells": [
  {
   "cell_type": "markdown",
   "id": "b72a02dd",
   "metadata": {},
   "source": [
    "***1. Постройте график зависимости весов всех признаков от lambda в самописной L2-регуляризации (на данных про ЕГЭ). Сделайте вывод.***"
   ]
  },
  {
   "cell_type": "code",
   "execution_count": 99,
   "id": "9bde3543",
   "metadata": {},
   "outputs": [],
   "source": [
    "import numpy as np\n",
    "from sklearn import datasets\n",
    "import matplotlib.pyplot as plt\n",
    "from mpl_toolkits.mplot3d.axes3d import Axes3D\n",
    "\n",
    "%matplotlib inline\n",
    "import warnings\n",
    "warnings.filterwarnings('ignore')"
   ]
  },
  {
   "cell_type": "code",
   "execution_count": 100,
   "id": "8d69c40e",
   "metadata": {},
   "outputs": [],
   "source": [
    "X = np.array([[   1,    1,  500,    1],\n",
    "              [   1,    1,  700,    1],\n",
    "              [   1,    2,  750,    2],\n",
    "              [   1,    5,  600,    1],\n",
    "              [   1,    3, 1450,    2],\n",
    "              [   1,    0,  800,    1],\n",
    "              [   1,    5, 1500,    3],\n",
    "              [   1,   10, 2000,    3],\n",
    "              [   1,    1,  450,    1],\n",
    "              [   1,    2, 1000,    2]])\n",
    "\n",
    "y = [45, 55, 50, 55, 60, 35, 75, 80, 50, 60]"
   ]
  },
  {
   "cell_type": "markdown",
   "id": "2bc21b61",
   "metadata": {},
   "source": [
    "Стандартизация "
   ]
  },
  {
   "cell_type": "code",
   "execution_count": 101,
   "id": "1060190d",
   "metadata": {},
   "outputs": [],
   "source": [
    "def standard_scale(X):\n",
    "    mean = X.mean()\n",
    "    std = X.std()\n",
    "    return (X - mean) / std"
   ]
  },
  {
   "cell_type": "code",
   "execution_count": 102,
   "id": "3462ec66",
   "metadata": {},
   "outputs": [],
   "source": [
    "X_st = X.copy()\n",
    "X_st = X_st.astype(np.float64)"
   ]
  },
  {
   "cell_type": "code",
   "execution_count": 103,
   "id": "0d5cbbaa",
   "metadata": {},
   "outputs": [
    {
     "data": {
      "text/plain": [
       "array([[ 1.        , -0.70710678, -0.97958969, -0.89625816],\n",
       "       [ 1.        , -0.70710678, -0.56713087, -0.89625816],\n",
       "       [ 1.        , -0.35355339, -0.46401617,  0.38411064],\n",
       "       [ 1.        ,  0.70710678, -0.77336028, -0.89625816],\n",
       "       [ 1.        ,  0.        ,  0.97958969,  0.38411064],\n",
       "       [ 1.        , -1.06066017, -0.36090146, -0.89625816],\n",
       "       [ 1.        ,  0.70710678,  1.08270439,  1.66447944],\n",
       "       [ 1.        ,  2.47487373,  2.11385144,  1.66447944],\n",
       "       [ 1.        , -0.70710678, -1.08270439, -0.89625816],\n",
       "       [ 1.        , -0.35355339,  0.05155735,  0.38411064]])"
      ]
     },
     "execution_count": 103,
     "metadata": {},
     "output_type": "execute_result"
    }
   ],
   "source": [
    "X_st[:, 1] = standard_scale(X_st[:, 1])\n",
    "X_st[:, 2] = standard_scale(X_st[:, 2])\n",
    "X_st[:, 3] = standard_scale(X_st[:, 3])\n",
    "\n",
    "X_st"
   ]
  },
  {
   "cell_type": "markdown",
   "id": "415586f9",
   "metadata": {},
   "source": [
    "L2 регуляризация"
   ]
  },
  {
   "cell_type": "code",
   "execution_count": 104,
   "id": "83c1ae62",
   "metadata": {},
   "outputs": [],
   "source": [
    "def calc_mse(y, y_pred):\n",
    "    err = np.mean((y - y_pred)**2)\n",
    "    return err"
   ]
  },
  {
   "cell_type": "code",
   "execution_count": 105,
   "id": "5263473c",
   "metadata": {},
   "outputs": [],
   "source": [
    "def gradient_descent_reg_l2(X, y, reg, iterations, eta=1e-3):\n",
    "    W = np.random.randn(X.shape[1])\n",
    "    n = X.shape[0]\n",
    "    \n",
    "    for i in range(0, iterations):\n",
    "        y_pred = np.dot(X, W)\n",
    "        err = calc_mse(y, y_pred)\n",
    "        \n",
    "        dQ = 2/n * X.T @ (y_pred - y) # градиент функции ошибки\n",
    "        dReg = reg * W # градиент регуляризации\n",
    "        \n",
    "        W -= eta * (dQ + dReg)\n",
    "    \n",
    "    print(f'Final MSE: {calc_mse(y, np.dot(X, W))}')\n",
    "    return W"
   ]
  },
  {
   "cell_type": "code",
   "execution_count": 106,
   "id": "4ae1c8b9",
   "metadata": {},
   "outputs": [
    {
     "name": "stdout",
     "output_type": "stream",
     "text": [
      "Final MSE: 25.270442427679008\n"
     ]
    },
    {
     "data": {
      "text/plain": [
       "array([56.49462422,  5.96292624,  1.09678838,  5.4091076 ])"
      ]
     },
     "execution_count": 106,
     "metadata": {},
     "output_type": "execute_result"
    }
   ],
   "source": [
    "gradient_descent_reg_l2(X_st, y, reg=1e-4, iterations=5000)"
   ]
  },
  {
   "cell_type": "code",
   "execution_count": 107,
   "id": "f3bf1687",
   "metadata": {},
   "outputs": [
    {
     "name": "stdout",
     "output_type": "stream",
     "text": [
      "Final MSE: 25.290040772341207\n",
      "Final MSE: 25.234554957253785\n",
      "Final MSE: 25.22745824930221\n",
      "Final MSE: 25.189519209914206\n",
      "Final MSE: 25.11867111635238\n",
      "Final MSE: 25.160724244028334\n",
      "Final MSE: 25.408998908725582\n",
      "Final MSE: 25.222186255238732\n",
      "Final MSE: 25.308545764671116\n",
      "Final MSE: 25.24505353797361\n",
      "Final MSE: 25.316390648563853\n",
      "Final MSE: 25.181692298346118\n",
      "Final MSE: 25.39072610860514\n",
      "Final MSE: 25.261477600772583\n",
      "Final MSE: 25.17766819396861\n",
      "Final MSE: 25.33824144008756\n",
      "Final MSE: 25.28186879369211\n",
      "Final MSE: 25.322320325064283\n",
      "Final MSE: 25.353720284725192\n",
      "Final MSE: 25.33588405839368\n",
      "Final MSE: 25.527251494293417\n",
      "Final MSE: 25.532037758487558\n",
      "Final MSE: 25.40583427287358\n",
      "Final MSE: 25.54428195251173\n",
      "Final MSE: 25.893715133630092\n",
      "Final MSE: 26.361149522203192\n",
      "Final MSE: 27.490962266666475\n",
      "Final MSE: 29.578531238018655\n",
      "Final MSE: 32.851455447233874\n",
      "Final MSE: 39.305552316249006\n",
      "Final MSE: 50.788658705631335\n",
      "Final MSE: 71.14125786016331\n",
      "Final MSE: 105.74882702670982\n",
      "Final MSE: 162.8464677340949\n",
      "Final MSE: 252.4949085174946\n",
      "Final MSE: 385.46624254642836\n",
      "Final MSE: 569.9637619781472\n",
      "Final MSE: 807.7211071029019\n",
      "Final MSE: 1091.0814595767135\n",
      "Final MSE: 1403.3196082320042\n",
      "Final MSE: 1722.5974408213035\n",
      "Final MSE: 2027.6375164254544\n",
      "Final MSE: 2302.3365023435585\n",
      "Final MSE: 2537.712559345374\n",
      "Final MSE: 2731.3671528716245\n",
      "Final MSE: 2885.614248843148\n",
      "Final MSE: 3005.3956414332106\n",
      "Final MSE: 3096.613641778066\n",
      "Final MSE: 3165.057423177979\n",
      "Final MSE: 3215.845108956103\n"
     ]
    },
    {
     "data": {
      "text/plain": [
       "Text(0, 0.5, 'Вес признака')"
      ]
     },
     "execution_count": 107,
     "metadata": {},
     "output_type": "execute_result"
    },
    {
     "data": {
      "image/png": "[encoded data removed]",
      "text/plain": [
       "<Figure size 432x288 with 1 Axes>"
      ]
     },
     "metadata": {
      "needs_background": "light"
     },
     "output_type": "display_data"
    }
   ],
   "source": [
    "n = 50 # количество разных lambda\n",
    "\n",
    "coeffs = np.zeros((n, X_st.shape[1]))\n",
    "lambda_list = np.logspace(-5, 2, n) # lambda от 1е-5 до 50\n",
    "\n",
    "for i, val in enumerate(lambda_list):    \n",
    "    coeffs[i, :] = gradient_descent_reg_l2(X_st, y, reg=val, iterations=5000)\n",
    "\n",
    "for i in range(X_st.shape[1]):\n",
    "    plt.plot(lambda_list, coeffs[:, i])\n",
    "\n",
    "plt.title('Убывание абсолютных значений весов признаков\\n при увеличении коэффициента регуляризации lambda')\n",
    "plt.xticks(np.arange(0, 101, 10))\n",
    "plt.xlabel('lambda')\n",
    "plt.ylabel('Вес признака')"
   ]
  },
  {
   "cell_type": "markdown",
   "id": "ac808473",
   "metadata": {},
   "source": [
    "Вывод:\n",
    "Как видно из графика, при увеличении lambda веса признаков стремятся к 0, при маленьких значениях lambda вес одного из признаков слишком большой."
   ]
  },
  {
   "cell_type": "markdown",
   "id": "b6511519",
   "metadata": {},
   "source": [
    "***2. Напишите функцию наподобие gradient_descent_reg_l2, но для применения L1-регуляризации.***"
   ]
  },
  {
   "cell_type": "code",
   "execution_count": 108,
   "id": "d4e85d18",
   "metadata": {},
   "outputs": [],
   "source": [
    "def gradient_descent_reg_l1(X, y, reg, iterations, eta=1e-3):\n",
    "    W = np.random.randn(X.shape[1])\n",
    "    n = X.shape[0]\n",
    "    \n",
    "    for i in range(0, iterations):\n",
    "        y_pred = np.dot(X, W)\n",
    "        err = calc_mse(y, y_pred)\n",
    "        \n",
    "        dQ = 2/n * X.T @ (y_pred - y) # градиент функции ошибки\n",
    "        dReg = reg * W / np.sqrt(sum([i ** 2 for i in W])) # градиент регуляризации\n",
    "        \n",
    "        W -= eta * (dQ + dReg)\n",
    "    \n",
    "    print(f'Final MSE: {calc_mse(y, np.dot(X, W))}')\n",
    "    return W"
   ]
  },
  {
   "cell_type": "code",
   "execution_count": 109,
   "id": "d86fa52c",
   "metadata": {},
   "outputs": [
    {
     "name": "stdout",
     "output_type": "stream",
     "text": [
      "Final MSE: 25.527397034853728\n"
     ]
    },
    {
     "data": {
      "text/plain": [
       "array([56.49741921,  5.79502316,  1.55278123,  5.1029465 ])"
      ]
     },
     "execution_count": 109,
     "metadata": {},
     "output_type": "execute_result"
    }
   ],
   "source": [
    "gradient_descent_reg_l1(X_st, y, reg=1e-4, iterations=5000)"
   ]
  },
  {
   "cell_type": "markdown",
   "id": "19bf54f1",
   "metadata": {},
   "source": [
    "****3. Можно ли к одному и тому же признаку применить сразу и нормализацию, и стандартизацию?***"
   ]
  },
  {
   "cell_type": "markdown",
   "id": "3c5a38e4",
   "metadata": {},
   "source": [
    "Стандартизация и нормализация не дополняют друг друга. Каждый из методов приводит признаки к опеределенной \n",
    "единой шкале, поэтому их одновременное использование представляется бессмысленным. Убедимся в этом."
   ]
  },
  {
   "cell_type": "code",
   "execution_count": 111,
   "id": "2a11deae",
   "metadata": {},
   "outputs": [],
   "source": [
    "def min_max_scale(X):\n",
    "    return (X - X.min()) / (X.max() - X.min())"
   ]
  },
  {
   "cell_type": "code",
   "execution_count": 112,
   "id": "f7101dfd",
   "metadata": {},
   "outputs": [],
   "source": [
    "X_norm = X.copy()\n",
    "X_norm = X_norm.astype(np.float64)"
   ]
  },
  {
   "cell_type": "code",
   "execution_count": 113,
   "id": "417b55ac",
   "metadata": {},
   "outputs": [
    {
     "data": {
      "text/plain": [
       "array([[1.        , 0.1       , 0.03225806, 0.        ],\n",
       "       [1.        , 0.1       , 0.16129032, 0.        ],\n",
       "       [1.        , 0.2       , 0.19354839, 0.5       ],\n",
       "       [1.        , 0.5       , 0.09677419, 0.        ],\n",
       "       [1.        , 0.3       , 0.64516129, 0.5       ],\n",
       "       [1.        , 0.        , 0.22580645, 0.        ],\n",
       "       [1.        , 0.5       , 0.67741935, 1.        ],\n",
       "       [1.        , 1.        , 1.        , 1.        ],\n",
       "       [1.        , 0.1       , 0.        , 0.        ],\n",
       "       [1.        , 0.2       , 0.35483871, 0.5       ]])"
      ]
     },
     "execution_count": 113,
     "metadata": {},
     "output_type": "execute_result"
    }
   ],
   "source": [
    "X_norm[:, 1] = min_max_scale(X_norm[:, 1])\n",
    "X_norm[:, 2] = min_max_scale(X_norm[:, 2])\n",
    "X_norm[:, 3] = min_max_scale(X_norm[:, 3])\n",
    "X_norm  # нормализованные данные"
   ]
  },
  {
   "cell_type": "code",
   "execution_count": 114,
   "id": "d833db6e",
   "metadata": {},
   "outputs": [
    {
     "data": {
      "text/plain": [
       "array([[ 1.        , -0.70710678, -0.97958969, -0.89625816],\n",
       "       [ 1.        , -0.70710678, -0.56713087, -0.89625816],\n",
       "       [ 1.        , -0.35355339, -0.46401617,  0.38411064],\n",
       "       [ 1.        ,  0.70710678, -0.77336028, -0.89625816],\n",
       "       [ 1.        ,  0.        ,  0.97958969,  0.38411064],\n",
       "       [ 1.        , -1.06066017, -0.36090146, -0.89625816],\n",
       "       [ 1.        ,  0.70710678,  1.08270439,  1.66447944],\n",
       "       [ 1.        ,  2.47487373,  2.11385144,  1.66447944],\n",
       "       [ 1.        , -0.70710678, -1.08270439, -0.89625816],\n",
       "       [ 1.        , -0.35355339,  0.05155735,  0.38411064]])"
      ]
     },
     "execution_count": 114,
     "metadata": {},
     "output_type": "execute_result"
    }
   ],
   "source": [
    "X_st # посмотрим еще раз на данные после стандартизации"
   ]
  },
  {
   "cell_type": "code",
   "execution_count": 115,
   "id": "a044cfce",
   "metadata": {},
   "outputs": [
    {
     "data": {
      "text/plain": [
       "array([[1.        , 0.1       , 0.03225806, 0.        ],\n",
       "       [1.        , 0.1       , 0.16129032, 0.        ],\n",
       "       [1.        , 0.2       , 0.19354839, 0.5       ],\n",
       "       [1.        , 0.5       , 0.09677419, 0.        ],\n",
       "       [1.        , 0.3       , 0.64516129, 0.5       ],\n",
       "       [1.        , 0.        , 0.22580645, 0.        ],\n",
       "       [1.        , 0.5       , 0.67741935, 1.        ],\n",
       "       [1.        , 1.        , 1.        , 1.        ],\n",
       "       [1.        , 0.1       , 0.        , 0.        ],\n",
       "       [1.        , 0.2       , 0.35483871, 0.5       ]])"
      ]
     },
     "execution_count": 115,
     "metadata": {},
     "output_type": "execute_result"
    }
   ],
   "source": [
    "# Попробуем нормализовать данные после стандартизации\n",
    "X_st_norm = X_st.copy()\n",
    "X_st_norm[:, 1] = min_max_scale(X_st_norm[:, 1])\n",
    "X_st_norm[:, 2] = min_max_scale(X_st_norm[:, 2])\n",
    "X_st_norm[:, 3] = min_max_scale(X_st_norm[:, 3])\n",
    "X_st_norm  "
   ]
  },
  {
   "cell_type": "code",
   "execution_count": 116,
   "id": "f14baac2",
   "metadata": {},
   "outputs": [
    {
     "data": {
      "text/plain": [
       "array([[ 1.00000000e+00, -7.07106781e-01, -9.79589689e-01,\n",
       "        -8.96258160e-01],\n",
       "       [ 1.00000000e+00, -7.07106781e-01, -5.67130873e-01,\n",
       "        -8.96258160e-01],\n",
       "       [ 1.00000000e+00, -3.53553391e-01, -4.64016169e-01,\n",
       "         3.84110640e-01],\n",
       "       [ 1.00000000e+00,  7.07106781e-01, -7.73360281e-01,\n",
       "        -8.96258160e-01],\n",
       "       [ 1.00000000e+00, -1.96261557e-16,  9.79589689e-01,\n",
       "         3.84110640e-01],\n",
       "       [ 1.00000000e+00, -1.06066017e+00, -3.60901465e-01,\n",
       "        -8.96258160e-01],\n",
       "       [ 1.00000000e+00,  7.07106781e-01,  1.08270439e+00,\n",
       "         1.66447944e+00],\n",
       "       [ 1.00000000e+00,  2.47487373e+00,  2.11385144e+00,\n",
       "         1.66447944e+00],\n",
       "       [ 1.00000000e+00, -7.07106781e-01, -1.08270439e+00,\n",
       "        -8.96258160e-01],\n",
       "       [ 1.00000000e+00, -3.53553391e-01,  5.15573521e-02,\n",
       "         3.84110640e-01]])"
      ]
     },
     "execution_count": 116,
     "metadata": {},
     "output_type": "execute_result"
    }
   ],
   "source": [
    "# Попробуем стандартизировать данные после нормализации\n",
    "X_norm_st = X_norm.copy()\n",
    "X_norm_st[:, 1] = standard_scale(X_norm_st[:, 1])\n",
    "X_norm_st[:, 2] = standard_scale(X_norm_st[:, 2])\n",
    "X_norm_st[:, 3] = standard_scale(X_norm_st[:, 3])\n",
    "X_norm_st "
   ]
  },
  {
   "cell_type": "markdown",
   "id": "5dc8aec1",
   "metadata": {},
   "source": [
    "Ответ: как видно, нет никакого смысла масштабировать признаки, применяя сразу 2 метода. "
   ]
  },
  {
   "cell_type": "markdown",
   "id": "9533545b",
   "metadata": {},
   "source": [
    "***4.*Сгенерируйте датасет при помощи sklearn.datasets.make_regression и обучите линейную модель при помощи градиентного и стохастического градиентного спуска. Нанесите среднеквадратичную ошибку для обоих методов на один график, сделайте выводы о разнице скорости сходимости каждого из методов.***"
   ]
  },
  {
   "cell_type": "code",
   "execution_count": 158,
   "id": "5385a41b",
   "metadata": {},
   "outputs": [],
   "source": [
    "X_, Y_, coef_ = datasets.make_regression(n_samples=1000, n_features=2, n_informative=2, n_targets=1, \n",
    "                                      noise=5, coef=True, random_state=2)\n",
    "X_[:, 0] *= 10"
   ]
  },
  {
   "cell_type": "code",
   "execution_count": 137,
   "id": "0f847b79",
   "metadata": {},
   "outputs": [
    {
     "data": {
      "text/plain": [
       "array([-0.79012702,  0.02045785])"
      ]
     },
     "metadata": {},
     "output_type": "display_data"
    },
    {
     "data": {
      "text/plain": [
       "array([9.85635367, 0.99101454])"
      ]
     },
     "metadata": {},
     "output_type": "display_data"
    }
   ],
   "source": [
    "# Получим средние значения и стандартное отклонение по столбцам\n",
    "\n",
    "means = np.mean(X_, axis=0)\n",
    "stds = np.std(X_, axis=0)\n",
    "# параметр axis указывается для вычисления значений по столбцам, а не по всему массиву\n",
    "display(means, stds)"
   ]
  },
  {
   "cell_type": "code",
   "execution_count": 138,
   "id": "fff5b482",
   "metadata": {},
   "outputs": [],
   "source": [
    "# вычтем каждое значение признака из среднего и поделим на стандартное отклонение\n",
    "for i in range(X_.shape[0]):\n",
    "    for j in range(X_.shape[1]):\n",
    "        X_[i][j] = (X_[i][j] - means[j]) / stds[j]"
   ]
  },
  {
   "cell_type": "code",
   "execution_count": 139,
   "id": "8b1d8639",
   "metadata": {},
   "outputs": [],
   "source": [
    "# реализуем функцию, определяющую среднеквадратичную ошибку\n",
    "def mserror(X, w, y_pred):\n",
    "    y = X.dot(w)\n",
    "    return (sum((y - y_pred)**2)) / len(y)"
   ]
  },
  {
   "cell_type": "markdown",
   "id": "381d6578",
   "metadata": {},
   "source": [
    "Градиентный спуск"
   ]
  },
  {
   "cell_type": "code",
   "execution_count": 153,
   "id": "02c13e99",
   "metadata": {},
   "outputs": [
    {
     "name": "stdout",
     "output_type": "stream",
     "text": [
      "Iteration #0: W_new = [1.18435438 0.13103061], MSE = 6907.93\n",
      "Iteration #100: W_new = [ 6.0869232  12.28202471], MSE = 3105.35\n",
      "Iteration #200: W_new = [ 6.11295483 22.27504928], MSE = 2104.51\n",
      "Iteration #300: W_new = [ 6.13434101 30.48477841], MSE = 1429.0\n",
      "Iteration #400: W_new = [ 6.15191074 37.22944836], MSE = 973.08\n",
      "Iteration #500: W_new = [ 6.16634508 42.77050482], MSE = 665.36\n",
      "Iteration #600: W_new = [ 6.17820356 47.32273748], MSE = 457.66\n",
      "Iteration #700: W_new = [ 6.18794584 51.0626059 ], MSE = 317.49\n",
      "Iteration #800: W_new = [ 6.19594958 54.13507976], MSE = 222.87\n",
      "Iteration #900: W_new = [ 6.20252501 56.65925831], MSE = 159.02\n",
      "Iter 1000: error - 116.268013153033, weights: [ 6.2078781 58.7142027]\n",
      "В случае использования градиентного спуска ошибка составляет 116.268\n",
      "Wall time: 285 ms\n"
     ]
    }
   ],
   "source": [
    "%%time\n",
    "\n",
    "w = np.zeros(X_st_.shape[1])\n",
    "w_list = [w.copy()]\n",
    "errors_1 = []\n",
    "eta = 0.001\n",
    "max_iter = 1e3\n",
    "min_weight_dist = 1e-8   # критерий сходимости (разница весов, при которой алгоритм останавливается)\n",
    "weight_dist = np.inf   # зададим начальную разницу весов большим числом\n",
    "iter_num = 0   # счетчик итераций\n",
    "\n",
    "np.random.seed(1234)\n",
    "\n",
    "# ход градиентного спуска\n",
    "while weight_dist > min_weight_dist and iter_num < max_iter:\n",
    "    \n",
    "    y_pred = np.dot(X_st_, w)\n",
    "    new_w = w - eta * 2 / Y_.shape[0] * np.dot(X_st_.T, y_pred - Y_)\n",
    "\n",
    "    weight_dist = np.linalg.norm(new_w - w, ord=2)\n",
    " \n",
    "    error = mserror(X_st_, new_w, Y_)\n",
    "    \n",
    "    w_list.append(new_w.copy())\n",
    "    errors_1.append(error)\n",
    "    \n",
    "    if iter_num % 100 == 0:\n",
    "        print(f'Iteration #{iter_num}: W_new = {new_w}, MSE = {round(error, 2)}')\n",
    "\n",
    "    iter_num += 1\n",
    "    w = new_w\n",
    "    \n",
    "w_list = np.array(w_list)\n",
    "\n",
    "print(f'Iter {iter_num}: error - {error}, weights: {new_w}')\n",
    "print(f'В случае использования градиентного спуска ошибка составляет {round(errors_1[-1], 4)}')"
   ]
  },
  {
   "cell_type": "markdown",
   "id": "822ad7d6",
   "metadata": {},
   "source": [
    "Стохастический градиентный спуск"
   ]
  },
  {
   "cell_type": "code",
   "execution_count": 154,
   "id": "8b058ca7",
   "metadata": {},
   "outputs": [
    {
     "name": "stdout",
     "output_type": "stream",
     "text": [
      "Iteration #0: W_new = [-0.80324377  0.1142314 ], MSE = 9190.22\n",
      "Iteration #100: W_new = [ 6.71489236 11.58760365], MSE = 3220.78\n",
      "Iteration #200: W_new = [ 6.31100418 21.52730648], MSE = 2176.47\n",
      "Iteration #300: W_new = [ 6.80557929 31.51523111], MSE = 1397.14\n",
      "Iteration #400: W_new = [ 6.41651602 37.6350161 ], MSE = 955.26\n",
      "Iteration #500: W_new = [ 6.00427675 42.4231004 ], MSE = 685.44\n",
      "Iteration #600: W_new = [ 4.54519103 46.503881  ], MSE = 752.25\n",
      "Iteration #700: W_new = [ 5.31991308 51.48358486], MSE = 377.36\n",
      "Iteration #800: W_new = [ 6.52521247 54.11044634], MSE = 234.14\n",
      "Iteration #900: W_new = [ 6.05110508 56.90957902], MSE = 155.63\n",
      "Iter 1000: error - 110.67921534924584, weights: [ 6.23955093 59.0215455 ]\n",
      "В случае использования стохастического градиентного спуска ошибка составляет 110.6792\n",
      "Wall time: 333 ms\n"
     ]
    }
   ],
   "source": [
    "%%time\n",
    "\n",
    "w = np.zeros(X_st_.shape[1])\n",
    "w_list = [w.copy()]\n",
    "errors_2 = []\n",
    "eta = 0.001\n",
    "max_iter = 1000\n",
    "min_weight_dist = 1e-8  # критерий сходимости (разница весов, при которой алгоритм останавливается)\n",
    "weight_dist = np.inf  # зададим начальную разницу весов большим числом\n",
    "iter_num = 0  # счетчик итераций\n",
    "\n",
    "np.random.seed(1234)\n",
    "\n",
    "# ход градиентного спуска\n",
    "while weight_dist > min_weight_dist and iter_num < max_iter:\n",
    "    \n",
    "    train_ind = np.random.randint(X_st_.shape[0], size=1) # генерируем случайный индекс объекта выборки\n",
    "    \n",
    "    y_pred = np.dot(X_st_[train_ind], w)\n",
    "    new_w = w - eta * 2 / Y_[train_ind].shape[0] * np.dot(X_st_[train_ind].T, y_pred - Y_[train_ind])\n",
    "\n",
    "    weight_dist = np.linalg.norm(new_w - w, ord=2)\n",
    " \n",
    "    error = mserror(X_st_, new_w, Y_)\n",
    "    \n",
    "    w_list.append(new_w.copy())\n",
    "    errors_2.append(error)\n",
    "    \n",
    "    if iter_num % 100 == 0:\n",
    "        print(f'Iteration #{iter_num}: W_new = {new_w}, MSE = {round(error, 2)}')\n",
    "\n",
    "    iter_num += 1\n",
    "    w = new_w\n",
    "    \n",
    "w_list = np.array(w_list)\n",
    "\n",
    "print(f'Iter {iter_num}: error - {error}, weights: {new_w}')\n",
    "print(f'В случае использования стохастического градиентного спуска ошибка составляет {round(errors_2[-1], 4)}')"
   ]
  },
  {
   "cell_type": "markdown",
   "id": "48a8045d",
   "metadata": {},
   "source": [
    " Нанесем среднеквадратичную ошибку для обоих методов на один график"
   ]
  },
  {
   "cell_type": "code",
   "execution_count": 157,
   "id": "b5be82e5",
   "metadata": {},
   "outputs": [
    {
     "data": {
      "text/plain": [
       "Text(0, 0.5, 'MSE')"
      ]
     },
     "execution_count": 157,
     "metadata": {},
     "output_type": "execute_result"
    },
    {
     "data": {
      "image/png": "[encoded data removed]",
      "text/plain": [
       "<Figure size 432x288 with 1 Axes>"
      ]
     },
     "metadata": {
      "needs_background": "light"
     },
     "output_type": "display_data"
    }
   ],
   "source": [
    "plt.plot(range(len(errors_2)), errors_2, label = \"SGD\")\n",
    "plt.plot(range(len(errors_1)), errors_1, label = \"GD\")\n",
    "plt.legend()\n",
    "plt.title('MSE')\n",
    "plt.xlabel('Iteration number')\n",
    "plt.ylabel('MSE')"
   ]
  },
  {
   "cell_type": "markdown",
   "id": "2846b917",
   "metadata": {},
   "source": [
    "При градиентном спуске ошибка падает монотонно, а при стохастическом градиентном спуске - нет, то опускаясь, то резко возрастая. При этом в обоих случаях понадобилось выполнить 1000 итераций, чтобы получить относительно низкое значение ошибки."
   ]
  }
 ],
 "metadata": {
  "kernelspec": {
   "display_name": "Python 3",
   "language": "python",
   "name": "python3"
  },
  "language_info": {
   "codemirror_mode": {
    "name": "ipython",
    "version": 3
   },
   "file_extension": ".py",
   "mimetype": "text/x-python",
   "name": "python",
   "nbconvert_exporter": "python",
   "pygments_lexer": "ipython3",
   "version": "3.8.8"
  }
 },
 "nbformat": 4,
 "nbformat_minor": 5
}
