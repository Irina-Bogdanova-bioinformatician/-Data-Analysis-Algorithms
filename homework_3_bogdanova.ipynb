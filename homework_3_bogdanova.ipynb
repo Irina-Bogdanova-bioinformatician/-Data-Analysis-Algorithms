{
 "cells": [
  {
   "cell_type": "markdown",
   "id": "abc4954a",
   "metadata": {},
   "source": [
    "***1. *Измените функцию calc_logloss так, чтобы нули по возможности не попадали в np.log.***"
   ]
  },
  {
   "cell_type": "code",
   "execution_count": 106,
   "id": "5b9af366",
   "metadata": {},
   "outputs": [],
   "source": [
    "import numpy as np\n",
    "from random import choice"
   ]
  },
  {
   "cell_type": "code",
   "execution_count": 107,
   "id": "2d65dfb3",
   "metadata": {},
   "outputs": [],
   "source": [
    "def calc_logloss(y, y_pred):\n",
    "    #добавим проверку наличия 0 и 1 в y_pred, если находим, заменяем на 1e-10 и 0.9999999999 соответственно\n",
    "    y_pred = y_pred.astype(float)\n",
    "    for i in range(len(y_pred)):\n",
    "        if y_pred[i] == 0:\n",
    "            y_pred[i] = 1e-10\n",
    "        elif y_pred[i] == 1:\n",
    "            y_pred[i] = 0.9999999999\n",
    "    err = - np.mean(y * np.log(y_pred) + (1.0 - y) * np.log(1.0 - y_pred))\n",
    "    return err\n"
   ]
  },
  {
   "cell_type": "code",
   "execution_count": 108,
   "id": "fc2456ec",
   "metadata": {},
   "outputs": [
    {
     "data": {
      "text/plain": [
       "0.164252033486018"
      ]
     },
     "execution_count": 108,
     "metadata": {},
     "output_type": "execute_result"
    }
   ],
   "source": [
    "# Пример применения\n",
    "y1 = np.array([1, 0])\n",
    "y_pred1 = np.array([0.8, 0.1])\n",
    "calc_logloss(y1, y_pred1)"
   ]
  },
  {
   "cell_type": "code",
   "execution_count": 109,
   "id": "9414fdcf",
   "metadata": {},
   "outputs": [
    {
     "data": {
      "text/plain": [
       "0.052680257878913145"
      ]
     },
     "execution_count": 109,
     "metadata": {},
     "output_type": "execute_result"
    }
   ],
   "source": [
    "# Пример применения\n",
    "y1 = np.array([1, 0])\n",
    "y_pred1 = np.array([0.9, 0])\n",
    "calc_logloss(y1, y_pred1)"
   ]
  },
  {
   "cell_type": "code",
   "execution_count": 110,
   "id": "6aeccf8d",
   "metadata": {},
   "outputs": [
    {
     "data": {
      "text/plain": [
       "1.000000082790371e-10"
      ]
     },
     "execution_count": 110,
     "metadata": {},
     "output_type": "execute_result"
    }
   ],
   "source": [
    "# Пример применения\n",
    "y1 = np.array([1, 0])\n",
    "y_pred1 = np.array([1, 0])\n",
    "calc_logloss(y1, y_pred1)"
   ]
  },
  {
   "cell_type": "markdown",
   "id": "7137756e",
   "metadata": {},
   "source": [
    "***2. Подберите аргументы функции eval_model для логистической регрессии таким образом, чтобы log loss был минимальным.***"
   ]
  },
  {
   "cell_type": "code",
   "execution_count": 111,
   "id": "d3d794fb",
   "metadata": {},
   "outputs": [],
   "source": [
    "def sigmoid(z):\n",
    "    res = 1 / (1 + np.exp(-z))\n",
    "    return res"
   ]
  },
  {
   "cell_type": "code",
   "execution_count": 112,
   "id": "679128f8",
   "metadata": {},
   "outputs": [],
   "source": [
    "def eval_model(X, y, iterations, eta=1e-4):\n",
    "    np.random.seed(42)\n",
    "    W = np.random.randn(X.shape[1])\n",
    "    n = X.shape[0]\n",
    "    \n",
    "    for i in range(iterations):\n",
    "        z = np.dot(X, W)\n",
    "        y_pred = sigmoid(z)\n",
    "        err = calc_logloss(y, y_pred)\n",
    "        \n",
    "        dQ = 1/n * X.T @ (y_pred - y)\n",
    "        W -= eta * dQ\n",
    "    print(i, W, err)\n",
    "    return W"
   ]
  },
  {
   "cell_type": "code",
   "execution_count": 113,
   "id": "98e09eba",
   "metadata": {},
   "outputs": [],
   "source": [
    "def eval_model_2(X, y, iterations, eta=1e-4):\n",
    "    np.random.seed(42)\n",
    "    W = np.random.randn(X.shape[1])\n",
    "    n = X.shape[0]\n",
    "    \n",
    "    for i in range(iterations):\n",
    "        z = np.dot(X, W)\n",
    "        y_pred = sigmoid(z)\n",
    "        err = calc_logloss(y, y_pred)\n",
    "        \n",
    "        dQ = 1/n * X.T @ (y_pred - y)\n",
    "        W -= eta * dQ\n",
    "    return [i, W, err]"
   ]
  },
  {
   "cell_type": "code",
   "execution_count": 114,
   "id": "3d149697",
   "metadata": {},
   "outputs": [],
   "source": [
    "def standard_scale(x):\n",
    "    res = (x - x.mean()) / x.std()\n",
    "    return res"
   ]
  },
  {
   "cell_type": "code",
   "execution_count": 115,
   "id": "21ff97c3",
   "metadata": {},
   "outputs": [],
   "source": [
    "X = np.array([ [   1,    1,  500,    1],\n",
    "               [   1,    1,  700,    1],\n",
    "               [   1,    2,  750,    2],\n",
    "               [   1,    5,  600,    1],\n",
    "               [   1,    3, 1450,    2],\n",
    "               [   1,    0,  800,    1],\n",
    "               [   1,    5, 1500,    3],\n",
    "               [   1,   10, 2000,    3],\n",
    "               [   1,    1,  450,    1],\n",
    "               [   1,    2, 1000,    2]], dtype=np.float64)\n",
    "\n",
    "y = np.array([0, 0, 1, 0, 1, 0, 1, 0, 1, 1], dtype=np.float64)"
   ]
  },
  {
   "cell_type": "code",
   "execution_count": 116,
   "id": "048144fe",
   "metadata": {},
   "outputs": [],
   "source": [
    "X_st = X.copy()\n",
    "X_st[:, 2] = standard_scale(X[:, 2])"
   ]
  },
  {
   "cell_type": "code",
   "execution_count": 117,
   "id": "58f813cb",
   "metadata": {},
   "outputs": [
    {
     "name": "stdout",
     "output_type": "stream",
     "text": [
      "499 [ 0.47822106 -0.20918419  0.64605995  1.49531432] 1.0559639161585663\n"
     ]
    }
   ],
   "source": [
    "W = eval_model(X_st, y, iterations=500, eta=1e-4) # исходные аргументы"
   ]
  },
  {
   "cell_type": "code",
   "execution_count": 118,
   "id": "0e7be6b8",
   "metadata": {},
   "outputs": [
    {
     "data": {
      "text/plain": [
       "' eta_list = [1e-5, 1e-4, 1e-3, 1e-2, 1e-1]\\n    for el in range(1, 31):\\n        eta_list.append(el)\\n    for i in eta_list: # перебираем eta,  \\n        err_prev = 1 \\n        delta = 1\\n        iter_n = 5000\\n        while delta > 0.0001:\\n            result = eval_model_2(X_st, y, iterations=iter_n, eta=i)\\n            delta = err_prev - result[2]\\n            err_prev = result[2]\\n            iter_n += 100\\n        result_dict[i] = result\\n    for key, value in result_dict.items():\\n        print(f\"eta = {key} result = {value}\")\\n'"
      ]
     },
     "execution_count": 118,
     "metadata": {},
     "output_type": "execute_result"
    }
   ],
   "source": [
    "# ищем оптимальный вариант eta и количество итераций; прекращаем итерации, когда изменение err равно 0.0001 \n",
    "\"\"\" eta_list = [1e-5, 1e-4, 1e-3, 1e-2, 1e-1]\n",
    "    for el in range(1, 31):\n",
    "        eta_list.append(el)\n",
    "    for i in eta_list: # перебираем eta,  \n",
    "        err_prev = 1 \n",
    "        delta = 1\n",
    "        iter_n = 5000\n",
    "        while delta > 0.0001:\n",
    "            result = eval_model_2(X_st, y, iterations=iter_n, eta=i)\n",
    "            delta = err_prev - result[2]\n",
    "            err_prev = result[2]\n",
    "            iter_n += 100\n",
    "        result_dict[i] = result\n",
    "    for key, value in result_dict.items():\n",
    "        print(f\"eta = {key} result = {value}\")\n",
    "\"\"\""
   ]
  },
  {
   "cell_type": "markdown",
   "id": "f1ed094b",
   "metadata": {},
   "source": [
    "Результат выполнения программы:\n",
    "\n",
    "eta = 10.8 result = [17999, array([-131.90528294,  -10.08073489,  -38.42146226,  102.40394746]), 0.026636535214415575]\n",
    "eta = 10.9 result = [17499, array([-132.30799035,  -10.1055352 ,  -38.54384429,  102.70523383]), 0.02647958582024048]\n",
    "eta = 11 result = [17399, array([-132.63763702,  -10.12583765,  -38.64402192,  102.95186272]), 0.026351758509575718]\n",
    "eta = 11.1 result = [17599, array([-132.96172474,  -10.14579905,  -38.74250901,  103.19433529]), 0.026226651539010097]\n",
    "eta = 11.2 result = [17399, array([-133.44706536,  -10.17569486,  -38.88999707,  103.55745729]), 0.026040334153519168]\n",
    "eta = 11.3 result = [16899, array([-133.62756951,  -10.18681423,  -38.94484901,  103.69250834]), 0.02597136355201706]\n",
    "eta = 11.4 result = [17099, array([-134.02997019,  -10.21160424,  -39.06712999,  103.99358264]), 0.025818212652065263]\n",
    "eta = 11.5 result = [16899, array([-134.26121937,  -10.22585132,  -39.13740086,  104.16660401]), 0.02573058879990946]\n",
    "eta = 11.6 result = [16499, array([-134.51264347,  -10.2413421 ,  -39.2138017 ,  104.35472182]), 0.025635636717335476]\n",
    "eta = 11.7 result = [16799, array([-135.05662109,  -10.27486036,  -39.37909909,  104.76173619]), 0.025431315878995192]\n",
    "eta = 11.8 result = [16499, array([-135.34900718,  -10.2928778 ,  -39.46794451,  104.98050802]), 0.025322131743105873]\n",
    "eta = 11.9 result = [16399, array([-135.59411234,  -10.30798248,  -39.54242226,  105.16390447]), 0.025230944698466717]\n",
    "eta = 12 result = [16199, array([-135.83642259,  -10.32291564,  -39.6160501 ,  105.34521112]), 0.025141101272353687]\n",
    "eta = 12.1 result = [15999, array([-136.0793327 ,  -10.33788647,  -39.68985957,  105.52696805]), 0.025051337630880514]\n",
    "eta = 12.2 result = [15699, array([-136.44283311,  -10.36029075,  -39.80030981,  105.79895906]), 0.024917570969204137]\n",
    "eta = 12.3 result = [15599, array([-136.6983876 ,  -10.37604275,  -39.87795962,  105.9901809 ]), 0.024823933272828426]\n",
    "eta = 12.4 result = [15699, array([-137.16276866,  -10.4046685 ,  -40.01905924,  106.33766387]), 0.02465462058728479]\n",
    "eta = 12.5 result = [15299, array([-137.41283625,  -10.42008442,  -40.09503993,  106.52478438]), 0.02456390122662643]\n",
    "eta = 12.6 result = [15399, array([-137.74348328,  -10.44046896,  -40.1955029 ,  106.77220315]), 0.024444429651881865]\n",
    "eta = 12.7 result = [15199, array([-137.88731503,  -10.44933666,  -40.23920401,  106.87983135]), 0.024392634960542888]\n",
    "eta = 12.8 result = [14999, array([-138.22248389,  -10.47000185,  -40.34103916,  107.13063755]), 0.024272329442205486]\n",
    "eta = 12.9 result = [14899, array([-138.34569036,  -10.47759861,  -40.37847297,  107.22283338]), 0.02422825139741382]\n",
    "eta = 13 result = [14699, array([-138.68268963,  -10.49837847,  -40.48086261,  107.47501293]), 0.02410805937049986]\n",
    "eta = 13.1 result = [14499, array([-138.99317609,  -10.51752469,  -40.57519586,  107.70735508]), 0.023997821889683173]\n",
    "eta = 13.2 result = [14799, array([-139.35017393,  -10.53954042,  -40.68365913,  107.97450526]), 0.0238716574679358]\n",
    "eta = 13.3 result = [14599, array([-139.50737159,  -10.54923512,  -40.73141858,  108.09214105]), 0.023816306154188026]\n",
    "eta = 13.4 result = [14599, array([-139.94882305,  -10.57646187,  -40.865538  ,  108.42249566]), 0.023661499243195078]\n",
    "eta = 14 result = [13699, array([-141.54794747,  -10.67510732,  -41.35135846,  109.61921787]), 0.023108661694653875]\n",
    "eta = 15 result = [12499, array([-144.00148191,  -10.8265147 ,  -42.09670126,  111.45545996]), 0.02228414454086865]\n",
    "eta = 1e-05 result = [4999, array([ 0.47822191, -0.20918125,  0.6460595 ,  1.49531539]), 1.055758230052698]\n",
    "eta = 0.0001 result = [16799, array([ 0.24261712, -0.71651016,  0.70767833,  1.27956178]), 0.511425363982413]\n",
    "eta = 0.001 result = [56699, array([-1.51226661, -0.9206617 ,  0.76718007,  2.49827262]), 0.41125413564377017]\n",
    "eta = 0.01 result = [55199, array([-7.86428897, -1.16665521, -1.51384009,  6.86601726]), 0.26432275610568196]\n",
    "eta = 0.1 result = [48899, array([-24.26588236,  -2.57067651,  -6.39131169,  20.10106081]), 0.14496153183237598]\n",
    "eta = 1 result = [26699, array([-50.31032257,  -4.85069233, -13.78351923,  40.97868214]), 0.08477519794991892]\n",
    "eta = 2 result = [26899, array([-67.64815228,  -6.11020073, -18.90001268,  54.31126216]), 0.0661481598319408]\n",
    "eta = 3 result = [27899, array([-82.98899965,  -7.08001455, -23.54436087,  65.83219038]), 0.053554847369342864]\n",
    "eta = 4 result = [27199, array([-94.30724844,  -7.77432564, -26.98710116,  74.29346263]), 0.0457372754645373]\n",
    "eta = 5 result = [25999, array([-103.12463106,   -8.31385269,  -29.66998426,   80.88294887]), 0.040379070531327436]\n",
    "eta = 6 result = [24699, array([-110.07157982,   -8.73934057,  -31.78330331,   86.07554539]), 0.0365665336678862]\n",
    "eta = 7 result = [23299, array([-115.91813319,   -9.09790106,  -33.5614288 ,   90.44661509]), 0.033616527800887974]\n",
    "eta = 8 result = [21899, array([-120.96762638,   -9.40795433,  -35.09679598,   94.22254637]), 0.031246971049118]\n",
    "eta = 9 result = [20599, array([-125.22900873,   -9.66988602,  -36.39227931,   97.40969203]), 0.02936874999565294]\n",
    "eta = 10 result = [19299, array([-129.14955056,   -9.91108104,  -37.58395023,  100.34235204]), 0.02773414797487258]\n",
    "eta = 16 result = [11199, array([-146.09219148,  -10.95558421,  -42.73177652,  113.02026656]), 0.021603637098245643]\n",
    "eta = 17 result = [9899, array([-148.45814944,  -11.10170224,  -43.45041023,  114.79119819]), 0.020857330910152638]\n",
    "eta = 18 result = [7799, array([-150.25323325,  -11.21260267,  -43.99561187,  116.13490586]), 0.020307534895745445]\n",
    "eta = 19 result = [6299, array([-152.15531581,  -11.33014905,  -44.57327867,  117.55877912]), 0.019740033347267223]\n",
    "eta = 20 result = [5099, array([-156.84968477,  -11.6204064 ,  -45.99883139,  121.07322535]), 0.018403394734929548]\n",
    "eta = 21 result = [5099, array([-160.46378464,  -11.84400989,  -47.09620769,  123.77920965]), 0.0174337906590255]\n",
    "eta = 22 result = [5099, array([-165.54873222,  -12.15880916,  -48.64001072,  127.58685467]), 0.016152165329772674]\n",
    "eta = 23 result = [5099, array([-171.85588825,  -12.54956911,  -50.55460891,  132.3102957 ]), 0.014688086813221974]\n",
    "eta = 24 result = [5099, array([-178.53064373,  -12.96343306,  -52.58049454,  137.30969715]), 0.01327841554652463]\n",
    "eta = 25 result = [5099, array([-186.18359805,  -13.4383501 ,  -54.90291336,  143.04257513]), 0.011823194242684621]\n",
    "eta = 26 result = [5099, array([-193.87538483,  -13.91619056,  -57.23665841,  148.80555406]), 0.010517233003796835]\n",
    "eta = 27 result = [5099, array([-197.03249848,  -14.11353011,  -58.19353367,  151.17323369]), 0.010022775217495155]\n",
    "eta = 28 result = [5099, array([-203.5062823 ,  -14.51641137,  -60.15710827,  156.02500683]), 0.009079019596045576]\n",
    "eta = 29 result = [5099, array([-201.92223415,  -14.41623624,  -59.67798049,  154.83489141]), 0.009301756787008128]\n",
    "eta = 30 result = [5099, array([-215.55355435,  -15.65518904,  -63.52374991,  165.73663452]), 0.007556819850673047]"
   ]
  },
  {
   "cell_type": "markdown",
   "id": "a3be7d1e",
   "metadata": {},
   "source": [
    "Как видно из данных, представленных выше, при eta = 30, iterations = 5100 - ошибка равна 0.007556819850673047. Из результатов работы программы, представленной ниже, видно, что увеличение eta и далее приводит к снижению ошибки. Однако веса растут - происходит переобучение.\n",
    "\n",
    "eta = 40 result = [5099, array([-271.99254279,  -29.10542161,  -77.35456812,  221.36382569]), 0.003722435922958809]\n",
    "eta = 41 result = [5099, array([-263.02624898,  -27.52443548,  -74.96645257,  213.27911495]), 0.004205124908816558]\n",
    "eta = 42 result = [5099, array([-270.69760688,  -29.7265661 ,  -76.73499183,  221.32892608]), 0.0038421323615387914]\n",
    "eta = 43 result = [5099, array([-275.82300459,  -31.16476155,  -77.92726634,  226.6630756 ]), 0.0036151129676229602]\n",
    "eta = 44 result = [5099, array([-265.04706468,  -27.27300023,  -75.70121755,  214.29082191]), 0.004050383930399281]\n",
    "eta = 45 result = [5099, array([-286.69690079,  -34.14249905,  -80.48046291,  237.88192335]), 0.0031727206039911804]\n",
    "eta = 46 result = [5099, array([-292.89667258,  -35.74282006,  -81.967643  ,  244.14848074]), 0.0029402458577958215]\n",
    "eta = 47 result = [5099, array([-299.89881971,  -37.41997642,  -83.6893873 ,  251.05237636]), 0.002692154885530016]\n",
    "eta = 48 result = [5099, array([-291.93474784,  -35.06312535,  -81.87638795,  242.60096073]), 0.0029540181795549686]\n",
    "eta = 49 result = [5099, array([-293.22499294,  -34.97203024,  -82.32302419,  243.33955333]), 0.002887254098542887]\n",
    "eta = 50 result = [5099, array([-315.49166419,  -41.4070507 ,  -87.44181033,  266.76292571]), 0.0022212050804040332]"
   ]
  },
  {
   "cell_type": "code",
   "execution_count": 119,
   "id": "37bc34eb",
   "metadata": {},
   "outputs": [
    {
     "data": {
      "text/plain": [
       "' eta_list = [i for i in range(40, 51)]\\n    for i in eta_list: \\n        err_prev = 1 \\n        delta = 1\\n        iter_n = 5000\\n        while delta > 0.0001:\\n            result = eval_model_2(X_st, y, iterations=iter_n, eta=i)\\n            delta = err_prev - result[2]\\n            err_prev = result[2]\\n            iter_n += 100\\n        result_dict[i] = result\\n    for key, value in result_dict.items():\\n        print(f\"eta = {key} result = {value}\")\\n'"
      ]
     },
     "execution_count": 119,
     "metadata": {},
     "output_type": "execute_result"
    }
   ],
   "source": [
    "# Рассмотрим еще несколько значений eta\n",
    "\"\"\" eta_list = [i for i in range(40, 51)]\n",
    "    for i in eta_list: \n",
    "        err_prev = 1 \n",
    "        delta = 1\n",
    "        iter_n = 5000\n",
    "        while delta > 0.0001:\n",
    "            result = eval_model_2(X_st, y, iterations=iter_n, eta=i)\n",
    "            delta = err_prev - result[2]\n",
    "            err_prev = result[2]\n",
    "            iter_n += 100\n",
    "        result_dict[i] = result\n",
    "    for key, value in result_dict.items():\n",
    "        print(f\"eta = {key} result = {value}\")\n",
    "\"\"\""
   ]
  },
  {
   "cell_type": "markdown",
   "id": "416383ca",
   "metadata": {},
   "source": [
    "***3. Создайте функцию calc_pred_proba, возвращающую предсказанную вероятность класса 1 (на вход подаются W, который уже посчитан функцией eval_model и X, на выходе - массив y_pred_proba).***"
   ]
  },
  {
   "cell_type": "code",
   "execution_count": 120,
   "id": "6b66c3b3",
   "metadata": {},
   "outputs": [],
   "source": [
    "def calc_pred_proba(x, w):\n",
    "    y_pred_proba = 1 / (1 + np.exp(-np.dot(x, w)))\n",
    "    return y_pred_proba"
   ]
  },
  {
   "cell_type": "code",
   "execution_count": 121,
   "id": "4c6e973e",
   "metadata": {},
   "outputs": [
    {
     "data": {
      "text/plain": [
       "array([0.75611147, 0.80185849, 0.93995282, 0.60539057, 0.96994385,\n",
       "       0.85073423, 0.99022143, 0.98576897, 0.74361806, 0.95621914])"
      ]
     },
     "execution_count": 121,
     "metadata": {},
     "output_type": "execute_result"
    }
   ],
   "source": [
    "y_pred_prob = calc_pred_proba(X_st, W)\n",
    "y_pred_prob"
   ]
  },
  {
   "cell_type": "markdown",
   "id": "a21f3ec7",
   "metadata": {},
   "source": [
    "***4. Создайте функцию calc_pred, возвращающую предсказанный класс (на вход подаются W, который уже посчитан функцией eval_model и X, на выходе - массив y_pred).***"
   ]
  },
  {
   "cell_type": "code",
   "execution_count": 122,
   "id": "6a0b72c0",
   "metadata": {},
   "outputs": [],
   "source": [
    "def calc_pred(x, w):\n",
    "    m = x.shape[0]\n",
    "    y_pred = np.zeros(m)\n",
    "    y_pred_proba = 1 / (1 + np.exp(-np.dot(x, w)))\n",
    "    # За порог отнесения к тому или иному классу примем вероятность 0.5\n",
    "    for i in range(y_pred_proba.shape[0]):\n",
    "        if (y_pred_proba[i] > 0.5): \n",
    "            y_pred[i] = 1\n",
    "        elif (y_pred_proba[i] <= 0.5):\n",
    "            y_pred[i] = 0\n",
    "\n",
    "    return y_pred"
   ]
  },
  {
   "cell_type": "code",
   "execution_count": 123,
   "id": "152f2e75",
   "metadata": {},
   "outputs": [
    {
     "data": {
      "text/plain": [
       "array([1., 1., 1., 1., 1., 1., 1., 1., 1., 1.])"
      ]
     },
     "execution_count": 123,
     "metadata": {},
     "output_type": "execute_result"
    }
   ],
   "source": [
    "y_pred = calc_pred(X_st, W)\n",
    "y_pred"
   ]
  },
  {
   "cell_type": "markdown",
   "id": "abe1b33e",
   "metadata": {},
   "source": [
    "****5. Реализуйте функции для подсчета Accuracy, матрицы ошибок, точности и полноты, а также F1 score.***"
   ]
  },
  {
   "cell_type": "code",
   "execution_count": 124,
   "id": "5a3332ac",
   "metadata": {},
   "outputs": [],
   "source": [
    "import random\n",
    "import pandas as pd"
   ]
  },
  {
   "cell_type": "code",
   "execution_count": 125,
   "id": "0ace3484",
   "metadata": {},
   "outputs": [],
   "source": [
    "def accuracy(y_predicted, y_real): # принимает на вход предсказанные и реальные значения переменной, возвращает долю правильных ответов\n",
    "    n_correct = 0\n",
    "    for pred, real in zip(y_predicted, y_real):\n",
    "        if pred == real:\n",
    "            n_correct += 1\n",
    "    return n_correct / y_real.shape[0]"
   ]
  },
  {
   "cell_type": "code",
   "execution_count": 126,
   "id": "f2947468",
   "metadata": {},
   "outputs": [
    {
     "name": "stdout",
     "output_type": "stream",
     "text": [
      "[0. 0. 1. 0. 1. 0. 1. 0. 1. 1.]\n"
     ]
    }
   ],
   "source": [
    "print(y)"
   ]
  },
  {
   "cell_type": "code",
   "execution_count": 127,
   "id": "6a86b7e6",
   "metadata": {},
   "outputs": [
    {
     "data": {
      "text/plain": [
       "0.5"
      ]
     },
     "execution_count": 127,
     "metadata": {},
     "output_type": "execute_result"
    }
   ],
   "source": [
    "accuracy(y_pred, y)"
   ]
  },
  {
   "cell_type": "code",
   "execution_count": 128,
   "id": "f437611c",
   "metadata": {},
   "outputs": [],
   "source": [
    "def mistakes_matrix(y_predicted, y_real):  # принимает на вход предсказанные и реальные значения переменной, возвращает матрицу ошибок\n",
    "    tp, tn, fp, fn = 0, 0, 0, 0\n",
    "    for pred, real in zip(y_predicted, y_real):\n",
    "        if pred == 1 and real == 1:\n",
    "            tp += 1\n",
    "        elif pred == 1 and real == 0: \n",
    "            fp += 1\n",
    "        elif pred == 0 and real == 1:\n",
    "            fn += 1\n",
    "        elif pred == 0 and real == 0:\n",
    "            tn += 1\n",
    "    results = pd.DataFrame({\"y = 1\": [tp, fn], \"y = 0\": [fp, tn]}, \n",
    "                       columns = [\"y = 1\", \"y = 0\"], index = ['a(x) = 1','a(x) = 0'])\n",
    "    return results"
   ]
  },
  {
   "cell_type": "code",
   "execution_count": 129,
   "id": "96e06796",
   "metadata": {},
   "outputs": [
    {
     "data": {
      "text/html": [
       "<div>\n",
       "<style scoped>\n",
       "    .dataframe tbody tr th:only-of-type {\n",
       "        vertical-align: middle;\n",
       "    }\n",
       "\n",
       "    .dataframe tbody tr th {\n",
       "        vertical-align: top;\n",
       "    }\n",
       "\n",
       "    .dataframe thead th {\n",
       "        text-align: right;\n",
       "    }\n",
       "</style>\n",
       "<table border=\"1\" class=\"dataframe\">\n",
       "  <thead>\n",
       "    <tr style=\"text-align: right;\">\n",
       "      <th></th>\n",
       "      <th>y = 1</th>\n",
       "      <th>y = 0</th>\n",
       "    </tr>\n",
       "  </thead>\n",
       "  <tbody>\n",
       "    <tr>\n",
       "      <th>a(x) = 1</th>\n",
       "      <td>5</td>\n",
       "      <td>5</td>\n",
       "    </tr>\n",
       "    <tr>\n",
       "      <th>a(x) = 0</th>\n",
       "      <td>0</td>\n",
       "      <td>0</td>\n",
       "    </tr>\n",
       "  </tbody>\n",
       "</table>\n",
       "</div>"
      ],
      "text/plain": [
       "          y = 1  y = 0\n",
       "a(x) = 1      5      5\n",
       "a(x) = 0      0      0"
      ]
     },
     "execution_count": 129,
     "metadata": {},
     "output_type": "execute_result"
    }
   ],
   "source": [
    "mistakes_matrix(y_pred, y)"
   ]
  },
  {
   "cell_type": "code",
   "execution_count": 130,
   "id": "79fcb3e3",
   "metadata": {},
   "outputs": [],
   "source": [
    "def precicion_calc(y_predicted, y_real): # рассчитывает точность\n",
    "    tp, fp = 0, 0\n",
    "    for pred, real in zip(y_predicted, y_real):\n",
    "        if pred == 1 and real == 1:\n",
    "            tp += 1\n",
    "        elif pred == 1 and real == 0: \n",
    "            fp += 1\n",
    "    return tp / (tp + fp)"
   ]
  },
  {
   "cell_type": "code",
   "execution_count": 131,
   "id": "c0483920",
   "metadata": {},
   "outputs": [
    {
     "data": {
      "text/plain": [
       "0.5"
      ]
     },
     "execution_count": 131,
     "metadata": {},
     "output_type": "execute_result"
    }
   ],
   "source": [
    "precicion_calc(y_pred, y)"
   ]
  },
  {
   "cell_type": "code",
   "execution_count": 132,
   "id": "068f8a79",
   "metadata": {},
   "outputs": [],
   "source": [
    "def recall_calc(y_predicted, y_real): # рассчитывает полноту\n",
    "    tp, fn = 0, 0\n",
    "    for pred, real in zip(y_predicted, y_real):\n",
    "        if pred == 1 and real == 1:\n",
    "            tp += 1\n",
    "        elif pred == 0 and real == 1: \n",
    "            fn += 1\n",
    "    return tp / (tp + fn)"
   ]
  },
  {
   "cell_type": "code",
   "execution_count": 133,
   "id": "308a1da1",
   "metadata": {},
   "outputs": [
    {
     "data": {
      "text/plain": [
       "1.0"
      ]
     },
     "execution_count": 133,
     "metadata": {},
     "output_type": "execute_result"
    }
   ],
   "source": [
    "recall_calc(y_pred, y)"
   ]
  },
  {
   "cell_type": "code",
   "execution_count": 134,
   "id": "6bf8c500",
   "metadata": {},
   "outputs": [],
   "source": [
    "def f1_calc(y_predicted, y_real): # рассчитывает f1 score (f beta при beta = 1)\n",
    "    tp, fp, fn = 0, 0, 0\n",
    "    for pred, real in zip(y_predicted, y_real):\n",
    "        if pred == 1 and real == 1:\n",
    "            tp += 1\n",
    "        elif pred == 1 and real == 0: \n",
    "            fp += 1\n",
    "        elif pred == 0 and real == 1:\n",
    "            fn += 1\n",
    "    p = tp / (tp + fp)\n",
    "    r = tp / (tp + fn)\n",
    "    return 2 * r * p / (p + r)"
   ]
  },
  {
   "cell_type": "code",
   "execution_count": 135,
   "id": "3a3581bc",
   "metadata": {},
   "outputs": [
    {
     "data": {
      "text/plain": [
       "0.6666666666666666"
      ]
     },
     "execution_count": 135,
     "metadata": {},
     "output_type": "execute_result"
    }
   ],
   "source": [
    "f1_calc(y_pred, y)"
   ]
  },
  {
   "cell_type": "markdown",
   "id": "e4683528",
   "metadata": {},
   "source": [
    "***6. Могла ли модель переобучиться? Почему?***"
   ]
  },
  {
   "cell_type": "markdown",
   "id": "03b45a52",
   "metadata": {},
   "source": [
    "Да, модель может переобучиться. В работе над заданием 2 мы получили большие по модулю веса при увеличении eta и количества итераций, что свидетельствует о переобучении. \n",
    "При этом мы получали снижение ошибки, так как новые модели лучше описывали имеющиеся данные. Алгоритм подгоняется под нашу обучающую выборку, поэтому не улавливает \"общую тенденцию\", из-за чего будет чаще ошибаться на новых точках."
   ]
  }
 ],
 "metadata": {
  "kernelspec": {
   "display_name": "Python 3",
   "language": "python",
   "name": "python3"
  },
  "language_info": {
   "codemirror_mode": {
    "name": "ipython",
    "version": 3
   },
   "file_extension": ".py",
   "mimetype": "text/x-python",
   "name": "python",
   "nbconvert_exporter": "python",
   "pygments_lexer": "ipython3",
   "version": "3.8.8"
  }
 },
 "nbformat": 4,
 "nbformat_minor": 5
}
