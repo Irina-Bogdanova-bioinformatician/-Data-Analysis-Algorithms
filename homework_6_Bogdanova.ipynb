{
 "cells": [
  {
   "cell_type": "markdown",
   "id": "efb71d71",
   "metadata": {},
   "source": [
    "***Задание 4 из ДЗ 5. * (На повторение) Переписать функцию gini из урока про решающие деревья так, чтобы в качестве критерия использовалась энтропия Шэннона. Переименовать функцию в entropy.***"
   ]
  },
  {
   "cell_type": "code",
   "execution_count": 14,
   "id": "e2540461",
   "metadata": {},
   "outputs": [],
   "source": [
    "import numpy as np"
   ]
  },
  {
   "cell_type": "code",
   "execution_count": 15,
   "id": "80cf06e9",
   "metadata": {},
   "outputs": [],
   "source": [
    "# Расчет критерия Джини\n",
    "\n",
    "def entropy(labels):\n",
    "    #  подсчет количества объектов разных классов\n",
    "    classes = {}\n",
    "    for label in labels:\n",
    "        if label not in classes:\n",
    "            classes[label] = 0\n",
    "        classes[label] += 1\n",
    "    \n",
    "    #  расчет критерия\n",
    "    e = 0\n",
    "    for label in classes:\n",
    "        p = classes[label] / len(labels)\n",
    "        e += p * np.log2(p)\n",
    "    e = -e\n",
    "        \n",
    "    return e"
   ]
  },
  {
   "cell_type": "code",
   "execution_count": 16,
   "id": "397a14de",
   "metadata": {},
   "outputs": [
    {
     "data": {
      "text/plain": [
       "(0.45, 0.55)"
      ]
     },
     "execution_count": 16,
     "metadata": {},
     "output_type": "execute_result"
    }
   ],
   "source": [
    "# Проверим на примере из методички\n",
    "blue = 9\n",
    "yellow = 11\n",
    "total = blue + yellow\n",
    "\n",
    "p_blue = blue / total\n",
    "p_yellow = yellow / total\n",
    "p_blue, p_yellow"
   ]
  },
  {
   "cell_type": "code",
   "execution_count": 17,
   "id": "b3d5b913",
   "metadata": {},
   "outputs": [
    {
     "data": {
      "text/plain": [
       "0.9927744539878083"
      ]
     },
     "execution_count": 17,
     "metadata": {},
     "output_type": "execute_result"
    }
   ],
   "source": [
    "e0 = - (p_blue * np.log2(p_blue) + p_yellow * np.log2(p_yellow))\n",
    "e0"
   ]
  },
  {
   "cell_type": "code",
   "execution_count": 18,
   "id": "4c7e8efd",
   "metadata": {},
   "outputs": [
    {
     "name": "stdout",
     "output_type": "stream",
     "text": [
      "0.9927744539878083\n"
     ]
    }
   ],
   "source": [
    "labels = [\"b\" for _ in range(9)]\n",
    "for i in range(11):\n",
    "    labels.append(\"y\")\n",
    "print(entropy(labels))"
   ]
  },
  {
   "cell_type": "markdown",
   "id": "b34471e8",
   "metadata": {},
   "source": [
    "***ДЗ к 6 уроку.     1. Для реализованной модели градиентного бустинга построить графики зависимости ошибки от количества деревьев в ансамбле и от максимальной глубины деревьев. Сделать выводы о зависимости ошибки от этих параметров.***"
   ]
  },
  {
   "cell_type": "code",
   "execution_count": 54,
   "id": "53dca3a2",
   "metadata": {},
   "outputs": [],
   "source": [
    "from sklearn import model_selection\n",
    "from sklearn.tree import DecisionTreeRegressor\n",
    "from sklearn.datasets import load_diabetes\n",
    "import matplotlib.pyplot as plt\n",
    "import numpy as np"
   ]
  },
  {
   "cell_type": "code",
   "execution_count": 55,
   "id": "c9e1510b",
   "metadata": {},
   "outputs": [
    {
     "data": {
      "text/plain": [
       "((442, 10), (442,))"
      ]
     },
     "execution_count": 55,
     "metadata": {},
     "output_type": "execute_result"
    }
   ],
   "source": [
    "X, y = load_diabetes(return_X_y=True)\n",
    "X.shape, y.shape"
   ]
  },
  {
   "cell_type": "code",
   "execution_count": 56,
   "id": "25c5a761",
   "metadata": {},
   "outputs": [],
   "source": [
    "X_train, X_test, y_train, y_test = model_selection.train_test_split(X, y, test_size=0.25)"
   ]
  },
  {
   "cell_type": "code",
   "execution_count": 57,
   "id": "481bc1c3",
   "metadata": {},
   "outputs": [],
   "source": [
    "def gb_predict(X, trees_list, eta):\n",
    "    # Реализуемый алгоритм градиентного бустинга будет инициализироваться нулевыми значениями,\n",
    "    # поэтому все деревья из списка trees_list уже являются дополнительными и при предсказании\n",
    "    # прибавляются с шагом eta\n",
    "    \n",
    "#     predictions = np.zeros(X.shape[0])\n",
    "#     for i, x in enumerate(X):\n",
    "#         prediction = 0\n",
    "#         for alg in trees_list:\n",
    "#             prediction += eta * alg.predict([x])[0]\n",
    "#         predictions[i] = prediction\n",
    "        \n",
    "    predictions = np.array(\n",
    "        [sum([eta * alg.predict([x])[0] for alg in trees_list]) for x in X]\n",
    "    )\n",
    "\n",
    "    return predictions"
   ]
  },
  {
   "cell_type": "code",
   "execution_count": 58,
   "id": "e45b7944",
   "metadata": {},
   "outputs": [],
   "source": [
    "def mean_squared_error(y_real, prediction):\n",
    "    return (sum((y_real - prediction)**2)) / len(y_real)"
   ]
  },
  {
   "cell_type": "code",
   "execution_count": 59,
   "id": "3afa262c",
   "metadata": {},
   "outputs": [],
   "source": [
    "def residual(y, z):\n",
    "    return - (z - y)"
   ]
  },
  {
   "cell_type": "code",
   "execution_count": 60,
   "id": "b65c451e",
   "metadata": {},
   "outputs": [],
   "source": [
    "def gb_fit(n_trees, max_depth, X_train, X_test, y_train, y_test, eta):\n",
    "    \n",
    "    # Деревья будем записывать в список\n",
    "    trees = []\n",
    "    \n",
    "    # Будем записывать ошибки на обучающей и тестовой выборке на каждой итерации в список\n",
    "    train_errors = []\n",
    "    test_errors = []\n",
    "    \n",
    "    for i in range(n_trees):\n",
    "        tree = DecisionTreeRegressor(max_depth=max_depth, random_state=42)\n",
    "\n",
    "        # первый алгоритм просто обучаем на выборке и добавляем в список\n",
    "        if len(trees) == 0:\n",
    "            # обучаем первое дерево на обучающей выборке\n",
    "            tree.fit(X_train, y_train)\n",
    "            \n",
    "            train_errors.append(mean_squared_error(y_train, gb_predict(X_train, trees, eta)))\n",
    "            test_errors.append(mean_squared_error(y_test, gb_predict(X_test, trees, eta)))\n",
    "        else:\n",
    "            # Получим ответы на текущей композиции\n",
    "            target = gb_predict(X_train, trees, eta)\n",
    "            \n",
    "            # алгоритмы начиная со второго обучаем на сдвиг\n",
    "            tree.fit(X_train, residual(y_train, target))\n",
    "            \n",
    "            train_errors.append(mean_squared_error(y_train, gb_predict(X_train, trees, eta)))\n",
    "            test_errors.append(mean_squared_error(y_test, gb_predict(X_test, trees, eta)))\n",
    "\n",
    "        trees.append(tree)\n",
    "        \n",
    "    return trees, train_errors, test_errors"
   ]
  },
  {
   "cell_type": "code",
   "execution_count": 88,
   "id": "74b19f32",
   "metadata": {},
   "outputs": [],
   "source": [
    "# Число деревьев в ансамбле\n",
    "n_trees = 10\n",
    "\n",
    "# Максимальная глубина деревьев\n",
    "max_depth = 3\n",
    "\n",
    "# Шаг\n",
    "eta = 0.1"
   ]
  },
  {
   "cell_type": "code",
   "execution_count": 98,
   "id": "c587728f",
   "metadata": {},
   "outputs": [],
   "source": [
    "def evaluate_alg(X_train, X_test, y_train, y_test, trees, eta):                             \n",
    "    train_prediction = gb_predict(X_train, trees, eta)\n",
    "    \n",
    "    mse_train = mean_squared_error(y_train, train_prediction)\n",
    "    print(f'Ошибка алгоритма из {n_trees} деревьев глубиной {max_depth} \\\n",
    "    с шагом {eta} на тренировочной выборке: {mse_train}')\n",
    "\n",
    "    test_prediction = gb_predict(X_test, trees, eta)\n",
    "    \n",
    "    mse_test = mean_squared_error(y_test, test_prediction)\n",
    "    print(f'Ошибка алгоритма из {n_trees} деревьев глубиной {max_depth} \\\n",
    "    с шагом {eta} на тестовой выборке: {mse_test}')\n",
    "    \n",
    "           "
   ]
  },
  {
   "cell_type": "code",
   "execution_count": 101,
   "id": "bfbd7780",
   "metadata": {},
   "outputs": [],
   "source": [
    "# создадим списки, в которые будем помещать max_depth и значения ошибки алгоритма для train и test\n",
    "\n",
    "list_max_depth = [[], [], []]"
   ]
  },
  {
   "cell_type": "code",
   "execution_count": 96,
   "id": "91def917",
   "metadata": {},
   "outputs": [],
   "source": [
    "def add_data(new_list, param, mse_train, mse_test):\n",
    "    new_list[0].append(param)\n",
    "    new_list[1].append(mse_train)\n",
    "    new_list[2].append(mse_test)\n",
    "    return new_list"
   ]
  },
  {
   "cell_type": "code",
   "execution_count": 123,
   "id": "91fc9f0e",
   "metadata": {},
   "outputs": [
    {
     "name": "stdout",
     "output_type": "stream",
     "text": [
      "Ошибка алгоритма из 100 деревьев глубиной 3     с шагом 0.1 на тренировочной выборке: 916.2185634144981\n",
      "Ошибка алгоритма из 100 деревьев глубиной 3     с шагом 0.1 на тестовой выборке: 3025.5730970824097\n"
     ]
    }
   ],
   "source": [
    "# Увеличим число деревьев в ансамбле до 100, максимальная глубина деревьев пока останется неизменной, шаг тот же (0.1)\n",
    "\n",
    "n_trees = 100\n",
    "trees_1, train_errors_1, test_errors_1 = gb_fit(n_trees, max_depth, X_train, X_test, y_train, y_test, eta)\n",
    "evaluate_alg(X_train, X_test, y_train, y_test, trees_1, eta)\n"
   ]
  },
  {
   "cell_type": "code",
   "execution_count": 124,
   "id": "090c0222",
   "metadata": {},
   "outputs": [
    {
     "data": {
      "image/png": "[encoded data removed]",
      "text/plain": [
       "<Figure size 432x288 with 1 Axes>"
      ]
     },
     "metadata": {
      "needs_background": "light"
     },
     "output_type": "display_data"
    }
   ],
   "source": [
    "# графики зависимости ошибки на обучающей и тестовой выборках от количества деревьев (eta = 0.1, max_depth = 3)\n",
    "\n",
    "plt.xlabel('Trees')\n",
    "plt.ylabel('MSE')\n",
    "plt.xlim(0, 110)\n",
    "plt.plot(list(range(n_trees)), train_errors_1, label='train error')\n",
    "plt.plot(list(range(n_trees)), test_errors_1, label='test error')\n",
    "plt.legend(loc='upper center')\n",
    "plt.show()"
   ]
  },
  {
   "cell_type": "code",
   "execution_count": 104,
   "id": "efa22997",
   "metadata": {},
   "outputs": [],
   "source": [
    "def evaluate_alg_2(X_train, X_test, y_train, y_test, trees, eta):                             \n",
    "    train_prediction = gb_predict(X_train, trees, eta)\n",
    "    \n",
    "    mse_train = mean_squared_error(y_train, train_prediction)\n",
    "    print(f'Ошибка алгоритма из {n_trees} деревьев глубиной {max_depth} \\\n",
    "    с шагом {eta} на тренировочной выборке: {mse_train}')\n",
    "\n",
    "    test_prediction = gb_predict(X_test, trees, eta)\n",
    "    \n",
    "    mse_test = mean_squared_error(y_test, test_prediction)\n",
    "    print(f'Ошибка алгоритма из {n_trees} деревьев глубиной {max_depth} \\\n",
    "    с шагом {eta} на тестовой выборке: {mse_test}')\n",
    "    \n",
    "    return max_depth, mse_train, mse_test        # теперь функция возвращает max_depth, mse_train, mse_test "
   ]
  },
  {
   "cell_type": "code",
   "execution_count": 105,
   "id": "c4e4985e",
   "metadata": {},
   "outputs": [
    {
     "name": "stdout",
     "output_type": "stream",
     "text": [
      "Ошибка алгоритма из 30 деревьев глубиной 1     с шагом 0.1 на тренировочной выборке: 3176.938511020303\n",
      "Ошибка алгоритма из 30 деревьев глубиной 1     с шагом 0.1 на тестовой выборке: 2694.412416683353\n",
      "Ошибка алгоритма из 30 деревьев глубиной 2     с шагом 0.1 на тренировочной выборке: 2563.1969302140865\n",
      "Ошибка алгоритма из 30 деревьев глубиной 2     с шагом 0.1 на тестовой выборке: 2498.5844372683537\n",
      "Ошибка алгоритма из 30 деревьев глубиной 3     с шагом 0.1 на тренировочной выборке: 1890.3870016572628\n",
      "Ошибка алгоритма из 30 деревьев глубиной 3     с шагом 0.1 на тестовой выборке: 2750.4985562809634\n",
      "Ошибка алгоритма из 30 деревьев глубиной 4     с шагом 0.1 на тренировочной выборке: 1239.9410313541475\n",
      "Ошибка алгоритма из 30 деревьев глубиной 4     с шагом 0.1 на тестовой выборке: 2844.042055074898\n",
      "Ошибка алгоритма из 30 деревьев глубиной 5     с шагом 0.1 на тренировочной выборке: 682.4194195496332\n",
      "Ошибка алгоритма из 30 деревьев глубиной 5     с шагом 0.1 на тестовой выборке: 3417.832439238299\n",
      "Ошибка алгоритма из 30 деревьев глубиной 6     с шагом 0.1 на тренировочной выборке: 323.2911493787881\n",
      "Ошибка алгоритма из 30 деревьев глубиной 6     с шагом 0.1 на тестовой выборке: 3488.566749612746\n",
      "Ошибка алгоритма из 30 деревьев глубиной 7     с шагом 0.1 на тренировочной выборке: 174.5236411424473\n",
      "Ошибка алгоритма из 30 деревьев глубиной 7     с шагом 0.1 на тестовой выборке: 3874.707041825176\n",
      "Ошибка алгоритма из 30 деревьев глубиной 8     с шагом 0.1 на тренировочной выборке: 119.60849205896258\n",
      "Ошибка алгоритма из 30 деревьев глубиной 8     с шагом 0.1 на тестовой выборке: 4295.258106572508\n",
      "Ошибка алгоритма из 30 деревьев глубиной 9     с шагом 0.1 на тренировочной выборке: 81.6858261275711\n",
      "Ошибка алгоритма из 30 деревьев глубиной 9     с шагом 0.1 на тестовой выборке: 4594.370992070948\n",
      "Ошибка алгоритма из 30 деревьев глубиной 10     с шагом 0.1 на тренировочной выборке: 65.09621782346986\n",
      "Ошибка алгоритма из 30 деревьев глубиной 10     с шагом 0.1 на тестовой выборке: 5017.0910960988695\n"
     ]
    },
    {
     "data": {
      "text/plain": [
       "' Результат:\\nОшибка алгоритма из 30 деревьев глубиной 1     с шагом 0.1 на тренировочной выборке: 3176.938511020303\\nОшибка алгоритма из 30 деревьев глубиной 1     с шагом 0.1 на тестовой выборке: 2694.412416683353\\nОшибка алгоритма из 30 деревьев глубиной 2     с шагом 0.1 на тренировочной выборке: 2563.1969302140865\\nОшибка алгоритма из 30 деревьев глубиной 2     с шагом 0.1 на тестовой выборке: 2498.5844372683537\\nОшибка алгоритма из 30 деревьев глубиной 3     с шагом 0.1 на тренировочной выборке: 1890.3870016572628\\nОшибка алгоритма из 30 деревьев глубиной 3     с шагом 0.1 на тестовой выборке: 2750.4985562809634\\nОшибка алгоритма из 30 деревьев глубиной 4     с шагом 0.1 на тренировочной выборке: 1239.9410313541475\\nОшибка алгоритма из 30 деревьев глубиной 4     с шагом 0.1 на тестовой выборке: 2844.042055074898\\nОшибка алгоритма из 30 деревьев глубиной 5     с шагом 0.1 на тренировочной выборке: 682.4194195496332\\nОшибка алгоритма из 30 деревьев глубиной 5     с шагом 0.1 на тестовой выборке: 3417.832439238299\\nОшибка алгоритма из 30 деревьев глубиной 6     с шагом 0.1 на тренировочной выборке: 323.2911493787881\\nОшибка алгоритма из 30 деревьев глубиной 6     с шагом 0.1 на тестовой выборке: 3488.566749612746\\nОшибка алгоритма из 30 деревьев глубиной 7     с шагом 0.1 на тренировочной выборке: 174.5236411424473\\nОшибка алгоритма из 30 деревьев глубиной 7     с шагом 0.1 на тестовой выборке: 3874.707041825176\\nОшибка алгоритма из 30 деревьев глубиной 8     с шагом 0.1 на тренировочной выборке: 119.60849205896258\\nОшибка алгоритма из 30 деревьев глубиной 8     с шагом 0.1 на тестовой выборке: 4295.258106572508\\nОшибка алгоритма из 30 деревьев глубиной 9     с шагом 0.1 на тренировочной выборке: 81.6858261275711\\nОшибка алгоритма из 30 деревьев глубиной 9     с шагом 0.1 на тестовой выборке: 4594.370992070948\\nОшибка алгоритма из 30 деревьев глубиной 10     с шагом 0.1 на тренировочной выборке: 65.09621782346986\\nОшибка алгоритма из 30 деревьев глубиной 10     с шагом 0.1 на тестовой выборке: 5017.0910960988695\\n'"
      ]
     },
     "execution_count": 105,
     "metadata": {},
     "output_type": "execute_result"
    }
   ],
   "source": [
    "# Теперь меняем максимальную глубину деревьев, число деревьев в ансамбле остается неизменным (30), шаг тот же\n",
    "\n",
    "n_trees = 30\n",
    "for i in range(1, 11):\n",
    "    max_depth = i\n",
    "    trees, train_errors, test_errors = gb_fit(n_trees, max_depth, X_train, X_test, y_train, y_test, eta)\n",
    "    m, mse_train, mse_test = evaluate_alg_2(X_train, X_test, y_train, y_test, trees, eta)\n",
    "    add_data(list_max_depth, max_depth, mse_train, mse_test)\n",
    "    \n",
    "    \n",
    "\"\"\" Результат:\n",
    "Ошибка алгоритма из 30 деревьев глубиной 1     с шагом 0.1 на тренировочной выборке: 3176.938511020303\n",
    "Ошибка алгоритма из 30 деревьев глубиной 1     с шагом 0.1 на тестовой выборке: 2694.412416683353\n",
    "Ошибка алгоритма из 30 деревьев глубиной 2     с шагом 0.1 на тренировочной выборке: 2563.1969302140865\n",
    "Ошибка алгоритма из 30 деревьев глубиной 2     с шагом 0.1 на тестовой выборке: 2498.5844372683537\n",
    "Ошибка алгоритма из 30 деревьев глубиной 3     с шагом 0.1 на тренировочной выборке: 1890.3870016572628\n",
    "Ошибка алгоритма из 30 деревьев глубиной 3     с шагом 0.1 на тестовой выборке: 2750.4985562809634\n",
    "Ошибка алгоритма из 30 деревьев глубиной 4     с шагом 0.1 на тренировочной выборке: 1239.9410313541475\n",
    "Ошибка алгоритма из 30 деревьев глубиной 4     с шагом 0.1 на тестовой выборке: 2844.042055074898\n",
    "Ошибка алгоритма из 30 деревьев глубиной 5     с шагом 0.1 на тренировочной выборке: 682.4194195496332\n",
    "Ошибка алгоритма из 30 деревьев глубиной 5     с шагом 0.1 на тестовой выборке: 3417.832439238299\n",
    "Ошибка алгоритма из 30 деревьев глубиной 6     с шагом 0.1 на тренировочной выборке: 323.2911493787881\n",
    "Ошибка алгоритма из 30 деревьев глубиной 6     с шагом 0.1 на тестовой выборке: 3488.566749612746\n",
    "Ошибка алгоритма из 30 деревьев глубиной 7     с шагом 0.1 на тренировочной выборке: 174.5236411424473\n",
    "Ошибка алгоритма из 30 деревьев глубиной 7     с шагом 0.1 на тестовой выборке: 3874.707041825176\n",
    "Ошибка алгоритма из 30 деревьев глубиной 8     с шагом 0.1 на тренировочной выборке: 119.60849205896258\n",
    "Ошибка алгоритма из 30 деревьев глубиной 8     с шагом 0.1 на тестовой выборке: 4295.258106572508\n",
    "Ошибка алгоритма из 30 деревьев глубиной 9     с шагом 0.1 на тренировочной выборке: 81.6858261275711\n",
    "Ошибка алгоритма из 30 деревьев глубиной 9     с шагом 0.1 на тестовой выборке: 4594.370992070948\n",
    "Ошибка алгоритма из 30 деревьев глубиной 10     с шагом 0.1 на тренировочной выборке: 65.09621782346986\n",
    "Ошибка алгоритма из 30 деревьев глубиной 10     с шагом 0.1 на тестовой выборке: 5017.0910960988695\n",
    "\"\"\""
   ]
  },
  {
   "cell_type": "markdown",
   "id": "439716be",
   "metadata": {},
   "source": [
    "Теперь построим графики зависимости ошибки на обучающей и тестовой выборках от максимальной глубины."
   ]
  },
  {
   "cell_type": "code",
   "execution_count": 107,
   "id": "f910333c",
   "metadata": {},
   "outputs": [
    {
     "data": {
      "image/png": "[encoded data removed]",
      "text/plain": [
       "<Figure size 432x288 with 1 Axes>"
      ]
     },
     "metadata": {
      "needs_background": "light"
     },
     "output_type": "display_data"
    }
   ],
   "source": [
    "# графики зависимости ошибки на обучающей и тестовой выборках от max_depth (eta = 0.1, tree number = 40)\n",
    "\n",
    "plt.xlabel('Max depth')\n",
    "plt.ylabel('MSE')\n",
    "plt.xlim(0, 11)\n",
    "plt.plot(list_max_depth[0], list_max_depth[1], label='train error')\n",
    "plt.plot(list_max_depth[0], list_max_depth[2], label='test error')\n",
    "plt.legend(loc='upper center')\n",
    "plt.show()"
   ]
  },
  {
   "cell_type": "markdown",
   "id": "9776105e",
   "metadata": {},
   "source": [
    "Вывод: как видно из первого графика, при увеличении максимального количества деревьев сначала происходит значительное снижение ошибки как на тренировочной, так и на тестовой выборках. Когда число деревьев начинает превышать 30, ошибка на тестовой выборке начинает возрастать, в то время как ошибка на тренировочной выборке снижается - происходит переобучение.\n",
    "При изменении максимальной глубины деревьев наблюдаем похожую картину, но с более резким увеличением ошибки на тестовой выборке, когда максимальная глубина превышает значение 2. При этом ошибка на тренировочной выборке снижается - здесь тоже происходит переобучение."
   ]
  },
  {
   "cell_type": "markdown",
   "id": "11799c28",
   "metadata": {},
   "source": [
    "**** 2. Модифицировать реализованный алгоритм градиентного бустинга, чтобы получился стохастический градиентный бустинг. Размер подвыборки принять равным 0.5. Сравнить на одном графике кривые изменения ошибки на тестовой выборке в зависимости от числа итераций.***"
   ]
  },
  {
   "cell_type": "code",
   "execution_count": 129,
   "id": "e3fe9a2b",
   "metadata": {},
   "outputs": [],
   "source": [
    "\n",
    "def gb_fit_2(n_trees, max_depth, X_train, X_test, y_train, y_test, eta):\n",
    "    \n",
    "    # Деревья будем записывать в список\n",
    "    trees = []\n",
    "    \n",
    "    # Будем записывать ошибки на обучающей и тестовой выборке на каждой итерации в список\n",
    "    train_errors = []\n",
    "    test_errors = []\n",
    "    \n",
    "    for i in range(n_trees):\n",
    "        tree = DecisionTreeRegressor(max_depth=max_depth, random_state=42)\n",
    "        \n",
    "        # генерируем случайные индексы объектов выборки \n",
    "        train_ind = random.sample(range(0, X_train.shape[0]), X_train.shape[0] // 2)\n",
    "\n",
    "        # первый алгоритм просто обучаем на выборке и добавляем в список\n",
    "        if len(trees) == 0:\n",
    "            \n",
    "            # обучаем первое дерево на обучающей выборке\n",
    "            tree.fit(X_train[train_ind, :], y_train[train_ind])\n",
    "            \n",
    "            train_errors.append(mean_squared_error(y_train, gb_predict(X_train, trees, eta)))\n",
    "            test_errors.append(mean_squared_error(y_test, gb_predict(X_test, trees, eta)))\n",
    "        else:\n",
    "            # Получим ответы на текущей композиции\n",
    "            target = gb_predict(X_train, trees, eta)\n",
    "            \n",
    "            # алгоритмы начиная со второго обучаем на сдвиг\n",
    "            tree.fit(X_train[train_ind, :], residual(y_train, target)[train_ind])\n",
    "            \n",
    "            train_errors.append(mean_squared_error(y_train, gb_predict(X_train, trees, eta)))\n",
    "            test_errors.append(mean_squared_error(y_test, gb_predict(X_test, trees, eta)))\n",
    "\n",
    "        trees.append(tree)\n",
    "        \n",
    "    return trees, train_errors, test_errors"
   ]
  },
  {
   "cell_type": "code",
   "execution_count": 130,
   "id": "fb6ee939",
   "metadata": {},
   "outputs": [
    {
     "name": "stdout",
     "output_type": "stream",
     "text": [
      "Ошибка алгоритма из 100 деревьев глубиной 3     с шагом 0.1 на тренировочной выборке: 953.2342336229963\n",
      "Ошибка алгоритма из 100 деревьев глубиной 3     с шагом 0.1 на тестовой выборке: 3009.416249195723\n"
     ]
    }
   ],
   "source": [
    "n_trees, max_depth = 100, 3\n",
    "trees_2, train_errors_2, test_errors_2 = gb_fit_2(n_trees, max_depth, X_train, X_test, y_train, y_test, eta)\n",
    "evaluate_alg(X_train, X_test, y_train, y_test, trees_2, eta)"
   ]
  },
  {
   "cell_type": "code",
   "execution_count": 132,
   "id": "2c5d6302",
   "metadata": {},
   "outputs": [
    {
     "data": {
      "image/png": "[encoded data removed]",
      "text/plain": [
       "<Figure size 432x288 with 1 Axes>"
      ]
     },
     "metadata": {
      "needs_background": "light"
     },
     "output_type": "display_data"
    }
   ],
   "source": [
    "# графики зависимости ошибки на тестовой выборке от количества итераций (eta = 0.1, max_depth = 3, n_trees = 100)\n",
    "\n",
    "plt.xlabel('Trees')\n",
    "plt.ylabel('MSE')\n",
    "plt.xlim(0, 110)\n",
    "plt.plot(list(range(n_trees)), train_errors_1, label='GB')\n",
    "plt.plot(list(range(n_trees)), train_errors_2, label='SGB')\n",
    "plt.legend(loc='upper center')\n",
    "plt.show()"
   ]
  }
 ],
 "metadata": {
  "kernelspec": {
   "display_name": "Python 3",
   "language": "python",
   "name": "python3"
  },
  "language_info": {
   "codemirror_mode": {
    "name": "ipython",
    "version": 3
   },
   "file_extension": ".py",
   "mimetype": "text/x-python",
   "name": "python",
   "nbconvert_exporter": "python",
   "pygments_lexer": "ipython3",
   "version": "3.8.8"
  }
 },
 "nbformat": 4,
 "nbformat_minor": 5
}
